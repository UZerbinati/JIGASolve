{
 "cells": [
  {
   "cell_type": "markdown",
   "metadata": {},
   "source": [
    "# JuliaIGA"
   ]
  },
  {
   "cell_type": "code",
   "execution_count": 2,
   "metadata": {
    "scrolled": true
   },
   "outputs": [
    {
     "name": "stderr",
     "output_type": "stream",
     "text": [
      "WARNING: replacing module JuliaIGA.\n"
     ]
    },
    {
     "data": {
      "text/plain": [
       "Plots.PlotlyBackend()"
      ]
     },
     "execution_count": 2,
     "metadata": {},
     "output_type": "execute_result"
    }
   ],
   "source": [
    "include(\"../JuliaIGA.jl\")\n",
    "using Plots\n",
    "using WebIO\n",
    "using Interact\n",
    "plotly()\n",
    "#pyplot()"
   ]
  },
  {
   "cell_type": "markdown",
   "metadata": {},
   "source": [
    "## CAD\n",
    "Different function to draw curve and surface were implemented, in particular we implemented separate function to define and draw Bezier curves and surfaces, B-Spline curve and surfaces and last but not least we implemented as well a set of function to define and draw NURBS curves and surfaces."
   ]
  },
  {
   "cell_type": "markdown",
   "metadata": {},
   "source": [
    "### Bezier Curves And Surface\n",
    "We define the __Bernstein polynomial__ of order $k$ and degree $n$ the following polynomial defined over $[0,1]$:\n",
    "$$b^n_k(t)=\\begin{pmatrix}n\\\\k\\end{pmatrix}(1-t)^{n-k}t^k$$\n",
    "we can then define the n-th __Bernstein polynomial__  associated with a continuous function $f:[0,1]\\to \\mathbb{R}$ the polynomial:\n",
    "$$p_n(t)=\\sum_{k=0}^n f\\Big(\\frac{k}{n}\\Big)b^n_k(t)$$\n",
    "We define a Bezier curve $\\vec{C}:[0,1]\\to \\mathbb{R}$, of control points $\\{\\vec{p}_0,\\dots,\\vec{p}_n\\}$, the following function:\n",
    "$$\\vec{C}(t) = \\sum_{k=0}^p \\vec{p}_k b^n_k(t)$$\n",
    "We used the De Casteljau algorithm to evaluate the Bezier curve in a given point.\n",
    "In the following line of code we define a 2D Bezier curves of degree $2$ that has as control points: $\\begin{pmatrix}0\\\\0\\end{pmatrix}$,$\\begin{pmatrix}0.5\\\\1\\end{pmatrix}$,$\\begin{pmatrix}1\\\\0\\end{pmatrix}$."
   ]
  },
  {
   "cell_type": "code",
   "execution_count": null,
   "metadata": {
    "scrolled": false
   },
   "outputs": [],
   "source": [
    "C = JuliaIGA.BezierCurve2D(2,[[0 0],[0.5 1],[1 0]])\n",
    "#We can access the information of the Bezier curve, after its definition.\n",
    "println(\"Bezier curve of order\",C.p,\"and control points:\")\n",
    "println(C.V)"
   ]
  },
  {
   "cell_type": "markdown",
   "metadata": {},
   "source": [
    "We also implemented the special function that use Plots to display the Bezier curves."
   ]
  },
  {
   "cell_type": "code",
   "execution_count": null,
   "metadata": {
    "scrolled": false
   },
   "outputs": [],
   "source": [
    "@manipulate for cx in 0.0:0.1:1\n",
    "    C = JuliaIGA.BezierCurve2D(2,[[0 0],[cx 1],[1 0]])\n",
    "    JuliaIGA.BezierPlot(C,0.01)\n",
    "end"
   ]
  },
  {
   "cell_type": "markdown",
   "metadata": {},
   "source": [
    "### B-Spline Curves And Surface\n",
    "We can define the i-th B-spline base function of order $p$ on the domain $[0,1]$, associated with a knot vector $[\\xi_0,\\dots,\\xi_{n+p+1}]$:\n",
    "$$N_{i,0}(\\xi) = \\begin{cases}1\\quad \\xi_i \\leq \\xi \\leq \\xi_{i+1}\\\\ 0\\end{cases}$$\n",
    "$$N_{i,p}(\\xi) = \\frac{\\xi - \\xi_i}{\\xi_{i+p}-\\xi_i}N_{i,p-1}(\\xi) + \\frac{\\xi_{i+p+1}-\\xi}{\\xi_{i+p+1}-\\xi_{i+1}}N_{i+1,p-1}$$\n",
    "we define a __piecewise polynomial B-Spline curve__ of control points $\\{\\vec{B}_0,\\dots,\\vec{B}_n\\}$ the following function $\\vec{C}:[\\xi_0,\\xi_n]\\to \\mathbb{R}$:\n",
    "$$C(\\xi) = \\sum_{i=1}^n \\vec{B}_iN_{i,p}(\\xi)$$\n",
    "We used the deBoor recursive formula to evaluate the BSpline in a given set of points."
   ]
  },
  {
   "cell_type": "code",
   "execution_count": null,
   "metadata": {
    "scrolled": false
   },
   "outputs": [],
   "source": [
    "@manipulate for Δx in 0.0:0.2:1.0\n",
    "    ξ=[0.0,0.0,0.0,1.0+Δx,2.0,3.0,3.0,3.0]\n",
    "    V=[0.0,0.0,1.0,0.0,0.0]\n",
    "    C=JuliaIGA.BSplineCurve(2,V,ξ)\n",
    "    JuliaIGA.BSplinePlot(C,0.01)\n",
    "end"
   ]
  },
  {
   "cell_type": "code",
   "execution_count": 5,
   "metadata": {
    "scrolled": false
   },
   "outputs": [
    {
     "data": {
      "text/html": [
       "    <script type=\"text/javascript\">\n",
       "        requirejs([\"https://cdn.plot.ly/plotly-latest.min.js\"], function(p) {\n",
       "            window.Plotly = p\n",
       "        });\n",
       "    </script>\n"
      ]
     },
     "metadata": {},
     "output_type": "display_data"
    },
    {
     "name": "stdout",
     "output_type": "stream",
     "text": [
      "Opening in existing browser session.\n"
     ]
    }
   ],
   "source": [
    "@manipulate for Δx in 0:0.2:1.0\n",
    "ξ=[0.0,0.0,0.0,0.0,1.0,1.0,1.0,1.0] # We define the knot vector\n",
    "V=[[-4.0 -4.0],[-2.0+Δx 4.0],[2.0 -4.0],[4.0 4.0]] # We define the control points of the BSpline\n",
    "C2 = JuliaIGA.BSplineCurve2D(3,V,ξ) # We build the BSpline having ξ as knot vector and V as control polygon.\n",
    "JuliaIGA.BSplinePlot(C2,0.01)# We plot the BSpline preaviusly defined"
   ]
  },
  {
   "cell_type": "markdown",
   "metadata": {},
   "source": [
    "### NURBS Curves And Surface\n",
    "We can describe using piece wise polynomial some shape such as a circle, to prevent this problem from occurring we introduce a particular mathematical object known as NURBS. A NURBS is the weighted-projection of a B-spline living in $\\mathbb{R}^{d+1}$ on the $\\mathbb{R}^d$ space. In particular given a knot vector $\\xi$, a weight vector $\\omega$ we define the associated NURBS base:\n",
    "$$R^p_i(\\xi)=\\frac{N_{i,p}(\\xi)\\omega_i}{\\sum_{i=1}^n N_{i,p}(\\xi)\\omega_i}$$\n",
    "where the $N_{i,p}(\\xi)$ is the n-th B-spline base of order $p$. Given the NURBS base we are now able to define a NURBS curve of control points $\\{\\vec{B}_0,\\dots,\\vec{B}_n\\}$:\n",
    "$$\\vec{C}(\\xi) = \\sum{n}_{i=1} \\vec{B}_i R^p_i(\\xi)$$"
   ]
  },
  {
   "cell_type": "code",
   "execution_count": null,
   "metadata": {
    "scrolled": false
   },
   "outputs": [],
   "source": [
    "#We define the knot vector\n",
    "ξ=[0.0,0.0,0.0,0.5*π,0.5*π,π,π,1.5*π,1.5*π,2*π,2*π,2*π];\n",
    "#We define the weight vector\n",
    "ω=[1.0,0.5*sqrt(2),1.0,0.5*sqrt(2),1.0,0.5*sqrt(2),1.0,0.5*sqrt(2),1.0];\n",
    "#We define the control points\n",
    "B=[[1.0 0.0],[1.0 1.0],[0.0 1.0],[-1.0 1.0],[-1.0 0.0],[-1.0 -1.0],[0.0 -1.0],[1.0 -1.0],[1.0 0.0]];\n",
    "#We define a second order NURBS, of knot vector ξ, weight vector ω and control points B\n",
    "S = JuliaIGA.NURBSCurve2D(2,B,ω,ξ);\n",
    "#We can now plot the NURBS Curve.\n",
    "JuliaIGA.NURBSPlot(S,0.01)"
   ]
  }
 ],
 "metadata": {
  "@webio": {
   "lastCommId": null,
   "lastKernelId": null
  },
  "kernelspec": {
   "display_name": "Julia 1.4.0",
   "language": "julia",
   "name": "julia-1.4"
  },
  "language_info": {
   "file_extension": ".jl",
   "mimetype": "application/julia",
   "name": "julia",
   "version": "1.4.0"
  },
  "widgets": {
   "application/vnd.jupyter.widget-state+json": {
    "state": {},
    "version_major": 2,
    "version_minor": 0
   }
  }
 },
 "nbformat": 4,
 "nbformat_minor": 2
}
